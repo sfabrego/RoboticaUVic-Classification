{
 "metadata": {
  "name": ""
 },
 "nbformat": 3,
 "nbformat_minor": 0,
 "worksheets": [
  {
   "cells": [
    {
     "cell_type": "code",
     "collapsed": false,
     "input": [
      "#k-Nearest Neighbors\n",
      "\n",
      "#Q1 Implementar una funci\u00f3n que hace la clasificaci\u00f3n kNN,y lo utilizan para clasificar el conjunto de datos del iris. \n",
      "#Una vez que obtenga una clasificaci\u00f3n casi perfecta all\u00ed, utilice su funci\u00f3n en el conjunto de datos 3DClothing. \n",
      "#Trace la exactitud para todos los valores impares de k de 1 a 9.\n",
      "\n",
      "#Q1 Implement a function that does kNN classification, and use it to classify the Iris dataset. \n",
      "#Once you get a near-perfect classification there, use your function in the 3DClothing dataset. \n",
      "#Plot the accuracy for all odd values of k from 1 to 9. \n",
      "\n",
      "# https://archive.ics.uci.edu/ml/datasets/Iris\n",
      "# https://en.wikipedia.org/wiki/Iris_flower_data_set\n",
      "# http://machinelearningmastery.com/tutorial-to-implement-k-nearest-neighbors-in-python-from-scratch/"
     ],
     "language": "python",
     "metadata": {},
     "outputs": []
    },
    {
     "cell_type": "code",
     "collapsed": false,
     "input": [
      "import numpy as np\n",
      "import scipy.spatial.distance as dist\n",
      "import csv\n",
      "import math\n",
      "from sklearn.metrics import accuracy_score as accuracy_score\n",
      "from collections import Counter\n"
     ],
     "language": "python",
     "metadata": {},
     "outputs": [],
     "prompt_number": 1
    },
    {
     "cell_type": "code",
     "collapsed": false,
     "input": [
      "\n",
      "data = np.array([map(float, x.split(',')[:-1]) for x in open('iris.data') if x.strip()!=''])\n",
      "labels = np.array([x.split(',')[-1].strip() for x in open('iris.data') if x.strip()!=''])\n",
      "\n",
      "idx_train = np.loadtxt('iris_idx_train.txt')\n",
      "idx_test = np.loadtxt('iris_idx_test.txt')\n",
      "\n",
      "idx_train = idx_train.astype(int)\n",
      "idx_test = idx_test.astype(int)\n",
      "\n",
      "data_train = data[idx_train,:]\n",
      "data_test = data[idx_test,:]\n",
      "labels_train = labels[idx_train]\n",
      "labels_test = labels[idx_test]\n",
      "\n",
      "def kNN(data_train, data_test, labels_train, labels_test):\n",
      "    for n in range(1,9,1):\t\n",
      "\tdistance = dist.cdist(data_train, data_test)\n",
      "\tmin_k = np.argsort(distance.T,1)[:,1:n+1]\n",
      "\tmin_labels = labels_train[min_k]\t\n",
      "\tacc = accuracy_score(labels_test, [Counter(x).most_common()[0][0] for x in min_labels] )\n",
      "\tprint acc\n",
      "\t\n",
      "\n",
      "kNN (data_train, data_test, labels_train, labels_test)"
     ],
     "language": "python",
     "metadata": {},
     "outputs": [
      {
       "output_type": "stream",
       "stream": "stdout",
       "text": [
        "0.94\n",
        "0.94\n",
        "0.94\n",
        "0.94\n",
        "0.96\n",
        "0.96\n",
        "0.96\n",
        "0.94\n"
       ]
      }
     ],
     "prompt_number": 5
    },
    {
     "cell_type": "code",
     "collapsed": false,
     "input": [],
     "language": "python",
     "metadata": {},
     "outputs": []
    }
   ],
   "metadata": {}
  }
 ]
}