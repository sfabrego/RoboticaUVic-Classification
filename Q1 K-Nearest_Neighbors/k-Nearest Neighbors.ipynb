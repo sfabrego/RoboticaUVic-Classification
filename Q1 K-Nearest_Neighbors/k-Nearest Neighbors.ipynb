{
 "cells": [
  {
   "cell_type": "code",
   "execution_count": 13,
   "metadata": {
    "collapsed": true
   },
   "outputs": [],
   "source": [
    "#k-Nearest Neighbors\n",
    "\n",
    "#Q1 Implement a function that does kNN classification, and use it to classify the Iris dataset. \n",
    "#Once you get a near-perfect classification there, use your function in the 3DClothing dataset. \n",
    "#Plot the accuracy for all odd values of k from 1 to 9. \n",
    "\n",
    "# https://archive.ics.uci.edu/ml/datasets/Iris\n",
    "# https://en.wikipedia.org/wiki/Iris_flower_data_set\n",
    "# http://scikit-learn.org/stable/modules/neighbors.html\n",
    "# http://machinelearningmastery.com/tutorial-to-implement-k-nearest-neighbors-in-python-from-scratch/"
   ]
  },
  {
   "cell_type": "code",
   "execution_count": 9,
   "metadata": {
    "collapsed": true
   },
   "outputs": [],
   "source": [
    "import numpy as np\n",
    "import scipy.spatial.distance as dist\n",
    "from sklearn.metrics import accuracy_score\n",
    "from collections import Counter\n",
    "from sklearn.linear_model import LogisticRegression\n",
    "from sklearn.svm import LinearSVC, SVC\n",
    "from sklearn.neighbors import KNeighborsClassifier"
   ]
  },
  {
   "cell_type": "code",
   "execution_count": 10,
   "metadata": {
    "collapsed": true
   },
   "outputs": [],
   "source": [
    "#  Build matrix\n",
    "data = np.array([map(float, x.split(',')[:-1]) for x in open('iris.data') if x.strip()!=''])\n",
    "labels = np.array([x.split(',')[-1].strip() for x in open('iris.data') if x.strip()!=''])\n",
    "# Handle data train and test\n",
    "iris_idx_train = np.loadtxt('iris_idx_train.txt')\n",
    "iris_idx_test = np.loadtxt('iris_idx_test.txt')\n",
    "\n",
    "iris_idx_train = iris_idx_train.astype(int)\n",
    "iris_idx_test = iris_idx_test.astype(int)\n",
    "# Data\n",
    "iris_data_train = data[iris_idx_train,:]\n",
    "iris_data_test = data[iris_idx_test,:]\n",
    "# Labels\n",
    "iris_labels_train = labels[iris_idx_train]\n",
    "iris_labels_test = labels[iris_idx_test]"
   ]
  },
  {
   "cell_type": "code",
   "execution_count": 11,
   "metadata": {},
   "outputs": [
    {
     "name": "stdout",
     "output_type": "stream",
     "text": [
      "Accuracy (k=1): 0.9400\n",
      "Accuracy (k=2): 0.9400\n",
      "Accuracy (k=3): 0.9400\n",
      "Accuracy (k=4): 0.9400\n",
      "Accuracy (k=5): 0.9600\n",
      "Accuracy (k=6): 0.9400\n",
      "Accuracy (k=7): 0.9600\n",
      "Accuracy (k=8): 0.9400\n"
     ]
    }
   ],
   "source": [
    "# K-NN Neighboars\n",
    "# Define the function K-NN with a range  \"K '\n",
    "def runknn(tr_data, tr_labels, te_data, te_labels):\n",
    "    for k in range(1,9):\n",
    "        knn = KNeighborsClassifier(k)\n",
    "        #Below the trainning data\n",
    "        knn.fit(iris_data_train, iris_labels_train)\n",
    "        acc = knn.score(iris_data_test, iris_labels_test)\n",
    "        print 'Accuracy (k=%d): %.4f'%(k,acc)\n",
    "runknn(iris_data_train, iris_labels_train, iris_data_test, iris_labels_test)"
   ]
  },
  {
   "cell_type": "code",
   "execution_count": 12,
   "metadata": {},
   "outputs": [
    {
     "name": "stdout",
     "output_type": "stream",
     "text": [
      "Accuracy (k=1): 0.9400\n",
      "Accuracy (k=2): 0.9400\n",
      "Accuracy (k=3): 0.9400\n",
      "Accuracy (k=4): 0.9400\n",
      "Accuracy (k=5): 0.9600\n",
      "Accuracy (k=6): 0.9600\n",
      "Accuracy (k=7): 0.9600\n",
      "Accuracy (k=8): 0.9400\n"
     ]
    }
   ],
   "source": [
    "# K-NN \n",
    "def runknn2(tr_data, tr_labels, te_data, te_labels):\n",
    "    for k in range(1,9):\n",
    "        # Below is the getAccuracy function\n",
    "        distance=dist.cdist(tr_data, te_data)\n",
    "        k_min = np.argsort(distance.T,1)[:,1:k+1]\n",
    "        lebel_min = tr_labels [k_min]\n",
    "        \n",
    "        accuracy = accuracy_score(te_labels, [Counter(x).most_common()[0][0] for x in lebel_min] )\n",
    "        \n",
    "        print 'Accuracy (k=%d): %.4f'%(k,accuracy)\n",
    "runknn2(iris_data_train, iris_labels_train, iris_data_test, iris_labels_test)"
   ]
  },
  {
   "cell_type": "code",
   "execution_count": null,
   "metadata": {
    "collapsed": true
   },
   "outputs": [],
   "source": []
  },
  {
   "cell_type": "code",
   "execution_count": null,
   "metadata": {
    "collapsed": true
   },
   "outputs": [],
   "source": []
  },
  {
   "cell_type": "code",
   "execution_count": null,
   "metadata": {
    "collapsed": true
   },
   "outputs": [],
   "source": []
  },
  {
   "cell_type": "code",
   "execution_count": null,
   "metadata": {
    "collapsed": true
   },
   "outputs": [],
   "source": []
  },
  {
   "cell_type": "code",
   "execution_count": null,
   "metadata": {
    "collapsed": true
   },
   "outputs": [],
   "source": []
  }
 ],
 "metadata": {
  "kernelspec": {
   "display_name": "Python 2",
   "language": "python",
   "name": "python2"
  },
  "language_info": {
   "codemirror_mode": {
    "name": "ipython",
    "version": 2
   },
   "file_extension": ".py",
   "mimetype": "text/x-python",
   "name": "python",
   "nbconvert_exporter": "python",
   "pygments_lexer": "ipython2",
   "version": "2.7.14"
  }
 },
 "nbformat": 4,
 "nbformat_minor": 1
}
