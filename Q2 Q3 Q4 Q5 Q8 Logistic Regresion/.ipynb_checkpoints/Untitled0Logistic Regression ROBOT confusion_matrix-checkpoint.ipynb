{
 "metadata": {
  "name": ""
 },
 "nbformat": 3,
 "nbformat_minor": 0,
 "worksheets": [
  {
   "cells": [
    {
     "cell_type": "code",
     "collapsed": false,
     "input": [
      "#Now load all the classifier scores of our robot waiter's vision system, \n",
      "#and compute a confusion matrix (take a look here for a definition). \n",
      "#Describe what you can observe in the matrix. "
     ],
     "language": "python",
     "metadata": {},
     "outputs": [],
     "prompt_number": 1
    },
    {
     "cell_type": "code",
     "collapsed": false,
     "input": [
      "import numpy as np\n",
      "import math\n",
      "from sklearn.linear_model import LogisticRegression\n",
      "from sklearn.svm import LinearSVC, SVC\n",
      "from sklearn.metrics import precision_recall_curve\n",
      "from sklearn.metrics import confusion_matrix\n",
      "import pylab as pl"
     ],
     "language": "python",
     "metadata": {},
     "outputs": [],
     "prompt_number": 2
    },
    {
     "cell_type": "code",
     "collapsed": false,
     "input": [
      "#Datos labels scores\n",
      "labels_data =np.load (\"robot_waiter/robot_waiter_allclf_labels.npy\")\n",
      "scores_data =np.load (\"robot_waiter/robot_waiter_allclf_scores.npy\")\n",
      "#We have run the image classifier in 150.000 images\n",
      "data =150000\n",
      "#Accuracy and Error Rate (assume threshold is at 0.5)\n",
      "filter_scores = scores_data > 0.5\n",
      "print data"
     ],
     "language": "python",
     "metadata": {},
     "outputs": [
      {
       "output_type": "stream",
       "stream": "stdout",
       "text": [
        "150000\n"
       ]
      }
     ],
     "prompt_number": 11
    },
    {
     "cell_type": "code",
     "collapsed": false,
     "input": [
      "#Definicion de clases\n",
      "true_positive = float(sum(filter_scores & labels_data))\n",
      "false_positive = float(sum(filter_scores & -labels_data))\n",
      "false_negative = float(sum(-filter_scores & labels_data))\n",
      "true_negative = float(sum(-filter_scores & -labels_data))"
     ],
     "language": "python",
     "metadata": {},
     "outputs": [
      {
       "ename": "TypeError",
       "evalue": "unsupported operand type(s) for &: 'numpy.ndarray' and 'numpy.ndarray'",
       "output_type": "pyerr",
       "traceback": [
        "\u001b[0;31m---------------------------------------------------------------------------\u001b[0m\n\u001b[0;31mTypeError\u001b[0m                                 Traceback (most recent call last)",
        "\u001b[0;32m<ipython-input-12-970a493c9db7>\u001b[0m in \u001b[0;36m<module>\u001b[0;34m()\u001b[0m\n\u001b[1;32m      1\u001b[0m \u001b[0;31m#Definicion de clases\u001b[0m\u001b[0;34m\u001b[0m\u001b[0;34m\u001b[0m\u001b[0m\n\u001b[0;32m----> 2\u001b[0;31m \u001b[0mtrue_positive\u001b[0m \u001b[0;34m=\u001b[0m \u001b[0mfloat\u001b[0m\u001b[0;34m(\u001b[0m\u001b[0msum\u001b[0m\u001b[0;34m(\u001b[0m\u001b[0mfilter_scores\u001b[0m \u001b[0;34m&\u001b[0m \u001b[0mlabels_data\u001b[0m\u001b[0;34m)\u001b[0m\u001b[0;34m)\u001b[0m\u001b[0;34m\u001b[0m\u001b[0m\n\u001b[0m\u001b[1;32m      3\u001b[0m \u001b[0mfalse_positive\u001b[0m \u001b[0;34m=\u001b[0m \u001b[0mfloat\u001b[0m\u001b[0;34m(\u001b[0m\u001b[0msum\u001b[0m\u001b[0;34m(\u001b[0m\u001b[0mfilter_scores\u001b[0m \u001b[0;34m&\u001b[0m \u001b[0;34m-\u001b[0m\u001b[0mlabels_data\u001b[0m\u001b[0;34m)\u001b[0m\u001b[0;34m)\u001b[0m\u001b[0;34m\u001b[0m\u001b[0m\n\u001b[1;32m      4\u001b[0m \u001b[0mfalse_negative\u001b[0m \u001b[0;34m=\u001b[0m \u001b[0mfloat\u001b[0m\u001b[0;34m(\u001b[0m\u001b[0msum\u001b[0m\u001b[0;34m(\u001b[0m\u001b[0;34m-\u001b[0m\u001b[0mfilter_scores\u001b[0m \u001b[0;34m&\u001b[0m \u001b[0mlabels_data\u001b[0m\u001b[0;34m)\u001b[0m\u001b[0;34m)\u001b[0m\u001b[0;34m\u001b[0m\u001b[0m\n\u001b[1;32m      5\u001b[0m \u001b[0mtrue_negative\u001b[0m \u001b[0;34m=\u001b[0m \u001b[0mfloat\u001b[0m\u001b[0;34m(\u001b[0m\u001b[0msum\u001b[0m\u001b[0;34m(\u001b[0m\u001b[0;34m-\u001b[0m\u001b[0mfilter_scores\u001b[0m \u001b[0;34m&\u001b[0m \u001b[0;34m-\u001b[0m\u001b[0mlabels_data\u001b[0m\u001b[0;34m)\u001b[0m\u001b[0;34m)\u001b[0m\u001b[0;34m\u001b[0m\u001b[0m\n",
        "\u001b[0;31mTypeError\u001b[0m: unsupported operand type(s) for &: 'numpy.ndarray' and 'numpy.ndarray'"
       ]
      }
     ],
     "prompt_number": 12
    },
    {
     "cell_type": "code",
     "collapsed": false,
     "input": [
      "y_true = [2, 0, 2, 2, 0, 1]\n",
      "y_pred = [0, 0, 2, 2, 0, 2]\n",
      "confusion_matrix(y_true, y_pred)\n",
      "array([[2, 0, 0],\n",
      "       [0, 0, 1],\n",
      "       [1, 0, 2]])"
     ],
     "language": "python",
     "metadata": {},
     "outputs": []
    }
   ],
   "metadata": {}
  }
 ]
}