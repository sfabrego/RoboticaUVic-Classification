{
 "cells": [
  {
   "cell_type": "code",
   "execution_count": 24,
   "metadata": {
    "collapsed": false
   },
   "outputs": [],
   "source": [
    "#Q2 First we will focus on a two-class problem. \n",
    "#Use slicing to get a new training and testing set that only contains the instances corresponding to shirt and jeans (remember to also create new label variables!). \n",
    "#Then, train a Logistic Regression classifier, adjusting the C parameter with cross-validation. This time you can chose to use the cross-validation functions provided by sklearn. \n",
    "#Plot the training and validation accuracy as C is incresed, and print the test accuracy for the selected model."
   ]
  },
  {
   "cell_type": "code",
   "execution_count": 25,
   "metadata": {
    "collapsed": false
   },
   "outputs": [],
   "source": [
    "import numpy as np\n",
    "import math\n",
    "from sklearn.linear_model import LogisticRegression\n",
    "from sklearn.svm import LinearSVC, SVC\n",
    "from sklearn.metrics import precision_recall_curve\n",
    "import pylab as pl"
   ]
  },
  {
   "cell_type": "code",
   "execution_count": 12,
   "metadata": {
    "collapsed": false
   },
   "outputs": [],
   "source": [
    "#Datos test y train\n",
    "train_data =np.load (\"3dclothing/3dclothing_train.npy\")\n",
    "test_data =np.load (\"3dclothing/3dclothing_test.npy\")\n",
    "#Matriz\n",
    "train_labels = np.array([x.strip() for x in open('3dclothing/3dclothing_labels_train.txt')])\n",
    "test_labels = np.array([x.strip() for x in open('3dclothing/3dclothing_labels_test.txt')])\n"
   ]
  },
  {
   "cell_type": "code",
   "execution_count": 14,
   "metadata": {
    "collapsed": true
   },
   "outputs": [],
   "source": [
    "dat_test = test_data[(test_labels == 'shirt') + (test_labels == 'jeans'),:]\n",
    "lab_test = test_labels[(test_labels == 'shirt') + (test_labels == 'jeans')]\n",
    "dat_train = train_data[(train_labels == 'shirt') + (train_labels == 'jeans'),:]\n",
    "lab_train = train_labels[(train_labels == 'shirt') + (train_labels == 'jeans')]"
   ]
  },
  {
   "cell_type": "code",
   "execution_count": 15,
   "metadata": {
    "collapsed": false
   },
   "outputs": [
    {
     "name": "stdout",
     "output_type": "stream",
     "text": [
      "Log Reg accuracy 0.831168831169\n"
     ]
    }
   ],
   "source": [
    "# Logistic Regression\n",
    "# Primero creamos un objeto clasificador, con C = 1\n",
    "LogReg = LogisticRegression(C=1)\n",
    "#Luego entrenarlo con los datos de entrenamiento\n",
    "LogReg.fit(dat_train, lab_train)\n",
    "# Y, finalmente, utilizar la función de puntuación para obtener la precisión\n",
    "print 'Log Reg accuracy', LogReg.score(dat_test, lab_test)\n"
   ]
  },
  {
   "cell_type": "code",
   "execution_count": 16,
   "metadata": {
    "collapsed": false
   },
   "outputs": [
    {
     "name": "stdout",
     "output_type": "stream",
     "text": [
      "Log Reg with Grid search 0.857142857143 with C = 0.01\n"
     ]
    }
   ],
   "source": [
    "# Si C = 1 el mejor parámetro de regularización\n",
    "# validación cruzada de búsqueda + rejilla\n",
    "# Sklearn:\n",
    "from sklearn.grid_search import GridSearchCV\n",
    "# Definimos el espacio de búsqueda para el parámetro Cwe define la busqueda del parametro C\n",
    "parameters = {'C':[10**i for i in range(-7,7)]}\n",
    "# Y crear un objeto de búsqueda cuadrícula con el tipo de clasificador\n",
    "# Uso y los parámetros\n",
    "clf = GridSearchCV(LogisticRegression(), parameters, verbose=False)\n",
    "# Clasificador con rejilla de búsqueda con el mejor parametro\n",
    "clf.fit(dat_train, lab_train)\n",
    "print 'Log Reg with Grid search', clf.score(dat_test, lab_test), 'with C =', clf.best_params_['C']"
   ]
  },
  {
   "cell_type": "code",
   "execution_count": 17,
   "metadata": {
    "collapsed": false
   },
   "outputs": [
    {
     "name": "stdout",
     "output_type": "stream",
     "text": [
      "Log Reg accuracy 0.251207729469\n",
      "Log Reg accuracy 0.429951690821\n",
      "Log Reg accuracy 0.521739130435\n",
      "Log Reg accuracy 0.613526570048\n",
      "Log Reg accuracy 0.666666666667\n",
      "Log Reg accuracy 0.652173913043\n",
      "Log Reg accuracy 0.632850241546\n",
      "Log Reg accuracy 0.632850241546\n",
      "Log Reg accuracy 0.628019323671\n",
      "Log Reg accuracy 0.632850241546\n",
      "Log Reg accuracy 0.623188405797\n",
      "Log Reg accuracy 0.632850241546\n",
      "Log Reg accuracy 0.63768115942\n",
      "Log Reg accuracy 0.628019323671\n"
     ]
    },
    {
     "data": {
      "image/png": "[encoded data removed]",
      "text/plain": [
       "<matplotlib.figure.Figure at 0x7f4044099b90>"
      ]
     },
     "metadata": {},
     "output_type": "display_data"
    }
   ],
   "source": [
    "#Definicion datos\n",
    "#Let your C search range be from 10^-7 to 10^7.\n",
    "#Hint: use log-scale for the C value in the plot. Hint: \n",
    "#Since we do not have a lot of training data, use 15 folds to ensure the train set will be large enough.\n",
    "\n",
    "D = [1,2,3,4,5,6,7,8,9,10,11,12,13,14,15]\n",
    "A = [1,2,3,4,5,6,7,8,9,10,11,12,13,14,15]\n",
    "P = 0\n",
    "\n",
    "for i in xrange (-7,7):    \n",
    "\tLogReg = LogisticRegression(C=10**i)\n",
    "\tD[P]=i\n",
    "\tLogReg.fit(train_data, train_labels)\n",
    "\tA[P] = LogReg.score(test_data, test_labels)\n",
    "\tprint 'Log Reg accuracy', A[P]\n",
    "\tP+=1\n",
    "#Plot\n",
    "pl.plot(D[:14],A[:14])\n",
    "\n",
    "pl.show()"
   ]
  },
  {
   "cell_type": "code",
   "execution_count": 18,
   "metadata": {
    "collapsed": false
   },
   "outputs": [
    {
     "name": "stdout",
     "output_type": "stream",
     "text": [
      "Log Reg accuracy 0.666666666667\n",
      "Log Reg accuracy 0.652173913043\n",
      "Log Reg accuracy 0.632850241546\n",
      "Log Reg accuracy 0.632850241546\n",
      "Log Reg accuracy 0.628019323671\n",
      "Log Reg accuracy 0.632850241546\n"
     ]
    },
    {
     "data": {
      "image/png": "[encoded data removed]",
      "text/plain": [
       "<matplotlib.figure.Figure at 0x7f4017577450>"
      ]
     },
     "metadata": {},
     "output_type": "display_data"
    }
   ],
   "source": [
    "#Q3 Now, train a multi-class Logistic Regression classifier with the complete training set. \n",
    "#Again, plot the training and validation accuracy as C increases, and print the final test accuracy. \n",
    "\n",
    "D = [1,2,3,4,5,6]\n",
    "A = [1,2,3,4,5,6]\n",
    "P = 0\n",
    "\n",
    "for i in xrange (-3,3):    \n",
    "\tLogReg = LogisticRegression(C=10**i)\n",
    "\tD[P]=i\n",
    "\tLogReg.fit(train_data, train_labels)\n",
    "\tA[P] = LogReg.score(test_data, test_labels)\n",
    "\tprint 'Log Reg accuracy', A[P]\n",
    "\tP+=1\n",
    "#Plot\n",
    "pl.plot(D[:5],A[:5])\n",
    "\n",
    "pl.show()"
   ]
  },
  {
   "cell_type": "code",
   "execution_count": 22,
   "metadata": {
    "collapsed": false
   },
   "outputs": [
    {
     "name": "stdout",
     "output_type": "stream",
     "text": [
      "Nuevas muestras [[  1.00000000e+00]\n",
      " [  1.00000000e+00]\n",
      " [  7.93043669e-07]\n",
      " [  1.00000000e+00]\n",
      " [  3.98461192e-03]\n",
      " [  1.52067626e-10]\n",
      " [  1.38455534e-12]\n",
      " [  9.99863162e-01]\n",
      " [  1.00000000e+00]\n",
      " [  4.01463327e-04]\n",
      " [  1.00000000e+00]\n",
      " [  1.00000000e+00]\n",
      " [  9.99961535e-01]\n",
      " [  9.99999942e-01]\n",
      " [  1.00000000e+00]\n",
      " [  1.48606043e-06]\n",
      " [  3.64127848e-06]\n",
      " [  1.00000000e+00]\n",
      " [  1.00000000e+00]\n",
      " [  1.00000000e+00]\n",
      " [  1.00000000e+00]\n",
      " [  2.45495392e-06]\n",
      " [  3.91597119e-09]\n",
      " [  1.00000000e+00]\n",
      " [  1.00000000e+00]\n",
      " [  1.00000000e+00]\n",
      " [  3.41590698e-10]\n",
      " [  9.99990960e-01]\n",
      " [  9.60229117e-01]\n",
      " [  3.57885622e-01]\n",
      " [  4.03225331e-02]\n",
      " [  9.99999994e-01]\n",
      " [  1.00000000e+00]\n",
      " [  2.88863383e-02]\n",
      " [  9.64026929e-01]\n",
      " [  1.00000000e+00]\n",
      " [  3.17920467e-01]\n",
      " [  1.00000000e+00]\n",
      " [  1.00000000e+00]\n",
      " [  1.00000000e+00]\n",
      " [  2.50163268e-11]\n",
      " [  1.00000000e+00]\n",
      " [  3.67859996e-11]\n",
      " [  5.76767924e-03]\n",
      " [  1.00000000e+00]\n",
      " [  9.73239805e-01]\n",
      " [  7.06602229e-23]\n",
      " [  7.50757098e-02]\n",
      " [  9.99999999e-01]\n",
      " [  2.15963830e-10]\n",
      " [  9.95767873e-01]\n",
      " [  1.00000000e+00]\n",
      " [  2.82554013e-12]\n",
      " [  9.11773778e-01]\n",
      " [  8.61697039e-09]\n",
      " [  1.00000000e+00]\n",
      " [  9.99999895e-01]\n",
      " [  1.00000000e+00]\n",
      " [  6.63165266e-14]\n",
      " [  9.99999986e-01]\n",
      " [  1.06096456e-01]\n",
      " [  1.00000000e+00]\n",
      " [  1.97698542e-03]\n",
      " [  9.99992436e-01]\n",
      " [  1.00000000e+00]\n",
      " [  1.00000000e+00]\n",
      " [  1.00000000e+00]\n",
      " [  6.18338148e-05]\n",
      " [  9.99999988e-01]\n",
      " [  1.00000000e+00]\n",
      " [  9.99964276e-01]\n",
      " [  9.99988965e-01]\n",
      " [  1.00000000e+00]\n",
      " [  5.66489495e-03]\n",
      " [  1.00000000e+00]\n",
      " [  9.99976903e-01]\n",
      " [  1.00000000e+00]]\n"
     ]
    }
   ],
   "source": [
    "# Q4 Sometimes we want to re-use a trained classified in another system, or with another programming language. \n",
    "# Other times we just want to save it to disk for later usage. \n",
    "# Given a trained linear classifier object, explain what information should we be saving in order to be able to do so. \n",
    "# Next, inspect the \"shirts vs jeans\" logistic regression classifier object we have trained in Question 2 \n",
    "# (re-train it if necessary) and identify which variables contain said information. \n",
    "# Finally, write the code necessary to use these variables to classify new test samples. \n",
    "\n",
    "#Datos test y train\n",
    "#train_data =np.load (\"3dclothing/3dclothing_train.npy\")\n",
    "#test_data =np.load (\"3dclothing/3dclothing_test.npy\")\n",
    "#Matriz\n",
    "#train_labels = np.array([x.strip() for x in open('3dclothing/3dclothing_labels_train.txt')])\n",
    "#test_labels = np.array([x.strip() for x in open('3dclothing/3dclothing_labels_test.txt')])\n",
    "#Matriz\n",
    "\n",
    "for i in xrange (-7,7):    \n",
    "\tLogReg = LogisticRegression(C=10**i)\n",
    "\tLogReg.fit(dat_train, lab_train)\n",
    "\ta = LogReg.score(dat_test, lab_test)\n",
    "\tbias = LogReg.intercept_\n",
    "\ttheta = LogReg.coef_\n",
    "\tacc = 1/(1+(np.exp(-np.dot(dat_test, theta.T)-bias)))\n",
    "print 'Nuevas muestras', acc"
   ]
  },
  {
   "cell_type": "code",
   "execution_count": 20,
   "metadata": {
    "collapsed": false
   },
   "outputs": [],
   "source": [
    "#Q6 We will now compare the performance of the linear and the RBF Support Vector Machines in a real dataset: \n",
    "#Train the two classifiers in the jeans vs shirts problem from Q2, and compute the accuracy on the test set. \n",
    "#What happened? "
   ]
  },
  {
   "cell_type": "code",
   "execution_count": 23,
   "metadata": {
    "collapsed": false
   },
   "outputs": [
    {
     "name": "stdout",
     "output_type": "stream",
     "text": [
      "Log Reg accuracy 0.61038961039\n",
      "Log Reg accuracy 0.688311688312\n",
      "Log Reg accuracy 0.766233766234\n",
      "Log Reg accuracy 0.883116883117\n",
      "Log Reg accuracy 0.883116883117\n",
      "Log Reg accuracy 0.857142857143\n",
      "Log Reg accuracy 0.818181818182\n",
      "Log Reg accuracy 0.831168831169\n",
      "Log Reg accuracy 0.844155844156\n",
      "Log Reg accuracy 0.831168831169\n",
      "Log Reg accuracy 0.831168831169\n",
      "Log Reg accuracy 0.831168831169\n",
      "Log Reg accuracy 0.831168831169\n",
      "Log Reg accuracy 0.831168831169\n",
      "RBF SVM accuracy 0.227053140097\n"
     ]
    }
   ],
   "source": [
    "#accuracy RBF SVM\n",
    "for i in xrange (-7,7):    \n",
    "\tLogReg = LogisticRegression(C=10**i)\n",
    "\tLogReg.fit(dat_train, lab_train)\n",
    "\tA = LogReg.score(dat_test, lab_test)\n",
    "\tprint 'Log Reg accuracy', A\n",
    "\tclf = SVC(C=10**i)\n",
    "\tclf.fit(train_data, train_labels)\n",
    "print 'RBF SVM accuracy', clf.score(test_data, test_labels)"
   ]
  },
  {
   "cell_type": "code",
   "execution_count": null,
   "metadata": {
    "collapsed": false
   },
   "outputs": [],
   "source": []
  }
 ],
 "metadata": {
  "anaconda-cloud": {},
  "kernelspec": {
   "display_name": "Python [default]",
   "language": "python",
   "name": "python2"
  },
  "language_info": {
   "codemirror_mode": {
    "name": "ipython",
    "version": 2
   },
   "file_extension": ".py",
   "mimetype": "text/x-python",
   "name": "python",
   "nbconvert_exporter": "python",
   "pygments_lexer": "ipython2",
   "version": "2.7.12"
  }
 },
 "nbformat": 4,
 "nbformat_minor": 0
}
