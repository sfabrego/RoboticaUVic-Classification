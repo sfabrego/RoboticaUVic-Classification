{
 "cells": [
  {
   "cell_type": "code",
   "execution_count": 1,
   "metadata": {
    "collapsed": true
   },
   "outputs": [],
   "source": [
    "####\n",
    "####\n",
    "####\n",
    "####\n",
    "#https://github.com/sfabrego/RoboticaUVic-Classification\n",
    "####\n",
    "####\n",
    "####\n",
    "####"
   ]
  },
  {
   "cell_type": "code",
   "execution_count": 2,
   "metadata": {
    "collapsed": true
   },
   "outputs": [],
   "source": [
    "#Q2 First we will focus on a two-class problem. \n",
    "#Use slicing to get a new training and testing set that only contains the instances corresponding to shirt and jeans (remember to also create new label variables!). \n",
    "#Then, train a Logistic Regression classifier, adjusting the C parameter with cross-validation. This time you can chose to use the cross-validation functions provided by sklearn. \n",
    "#Plot the training and validation accuracy as C is incresed, and print the test accuracy for the selected model."
   ]
  },
  {
   "cell_type": "code",
   "execution_count": 3,
   "metadata": {
    "collapsed": true
   },
   "outputs": [],
   "source": [
    "import numpy as np\n",
    "import math\n",
    "from sklearn.linear_model import LogisticRegression\n",
    "from sklearn.svm import LinearSVC, SVC\n",
    "from sklearn.metrics import precision_recall_curve\n",
    "import pylab as pl"
   ]
  },
  {
   "cell_type": "code",
   "execution_count": 2,
   "metadata": {
    "collapsed": true
   },
   "outputs": [],
   "source": [
    "#Data test y train\n",
    "train_data =np.load (\"3dclothing/3dclothing_train.npy\")\n",
    "test_data =np.load (\"3dclothing/3dclothing_test.npy\")\n",
    "#Matrix\n",
    "train_labels = np.array([x.strip() for x in open('3dclothing/3dclothing_labels_train.txt')])\n",
    "test_labels = np.array([x.strip() for x in open('3dclothing/3dclothing_labels_test.txt')])\n"
   ]
  },
  {
   "cell_type": "code",
   "execution_count": 3,
   "metadata": {
    "collapsed": true
   },
   "outputs": [],
   "source": [
    "dat_test = test_data[(test_labels == 'shirt') + (test_labels == 'jeans'),:]\n",
    "lab_test = test_labels[(test_labels == 'shirt') + (test_labels == 'jeans')]\n",
    "dat_train = train_data[(train_labels == 'shirt') + (train_labels == 'jeans'),:]\n",
    "lab_train = train_labels[(train_labels == 'shirt') + (train_labels == 'jeans')]"
   ]
  },
  {
   "cell_type": "code",
   "execution_count": 4,
   "metadata": {},
   "outputs": [
    {
     "name": "stdout",
     "output_type": "stream",
     "text": [
      "Log Reg accuracy 0.831168831169\n"
     ]
    }
   ],
   "source": [
    "# Clasificator object with C = 1\n",
    "LogReg = LogisticRegression(C=1)\n",
    "#Trainning with the trainning data\n",
    "LogReg.fit(dat_train, lab_train)\n",
    "# Below is the Accuracy function \n",
    "print 'Log Reg accuracy', LogReg.score(dat_test, lab_test)\n"
   ]
  },
  {
   "cell_type": "code",
   "execution_count": 5,
   "metadata": {},
   "outputs": [
    {
     "name": "stderr",
     "output_type": "stream",
     "text": [
      "/home/sergi/anaconda2/lib/python2.7/site-packages/sklearn/cross_validation.py:41: DeprecationWarning: This module was deprecated in version 0.18 in favor of the model_selection module into which all the refactored classes and functions are moved. Also note that the interface of the new CV iterators are different from that of this module. This module will be removed in 0.20.\n",
      "  \"This module will be removed in 0.20.\", DeprecationWarning)\n",
      "/home/sergi/anaconda2/lib/python2.7/site-packages/sklearn/grid_search.py:42: DeprecationWarning: This module was deprecated in version 0.18 in favor of the model_selection module into which all the refactored classes and functions are moved. This module will be removed in 0.20.\n",
      "  DeprecationWarning)\n"
     ]
    },
    {
     "name": "stdout",
     "output_type": "stream",
     "text": [
      "Log Reg with Grid search 0.857142857143 with C = 0.01\n"
     ]
    }
   ],
   "source": [
    "# C = 1 \n",
    "from sklearn.grid_search import GridSearchCV\n",
    "# We define the search space for the parameter Cwe define the search for the best C parameter \n",
    "parameters = {'C':[10**i for i in range(-7,7)]}\n",
    "clf = GridSearchCV(LogisticRegression(), parameters, verbose=False)\n",
    "clf.fit(dat_train, lab_train)\n",
    "print 'Log Reg with Grid search', clf.score(dat_test, lab_test), 'with C =', clf.best_params_['C']"
   ]
  },
  {
   "cell_type": "code",
   "execution_count": 17,
   "metadata": {},
   "outputs": [
    {
     "name": "stdout",
     "output_type": "stream",
     "text": [
      "Log Reg accuracy 0.251207729469\n",
      "Log Reg accuracy 0.429951690821\n",
      "Log Reg accuracy 0.521739130435\n",
      "Log Reg accuracy 0.613526570048\n",
      "Log Reg accuracy 0.666666666667\n",
      "Log Reg accuracy 0.652173913043\n",
      "Log Reg accuracy 0.632850241546\n",
      "Log Reg accuracy 0.632850241546\n",
      "Log Reg accuracy 0.628019323671\n",
      "Log Reg accuracy 0.632850241546\n",
      "Log Reg accuracy 0.623188405797\n",
      "Log Reg accuracy 0.632850241546\n",
      "Log Reg accuracy 0.63768115942\n",
      "Log Reg accuracy 0.628019323671\n"
     ]
    },
    {
     "data": {
      "image/png": "[encoded data removed]",
      "text/plain": [
       "<matplotlib.figure.Figure at 0x7f4044099b90>"
      ]
     },
     "metadata": {},
     "output_type": "display_data"
    }
   ],
   "source": [
    "#Data detfinition\n",
    "#Let your C search range be from 10^-7 to 10^7.\n",
    "#Hint: use log-scale for the C value in the plot. Hint: \n",
    "#Since we do not have a lot of training data, use 15 folds to ensure the train set will be large enough.\n",
    "\n",
    "D = [1,2,3,4,5,6,7,8,9,10,11,12,13,14,15]\n",
    "A = [1,2,3,4,5,6,7,8,9,10,11,12,13,14,15]\n",
    "P = 0\n",
    "\n",
    "for i in xrange (-7,7):    \n",
    "\tLogReg = LogisticRegression(C=10**i)\n",
    "\tD[P]=i\n",
    "\tLogReg.fit(train_data, train_labels)\n",
    "\tA[P] = LogReg.score(test_data, test_labels)\n",
    "\tprint 'Log Reg accuracy', A[P]\n",
    "\tP+=1\n",
    "#Plot\n",
    "pl.plot(D[:14],A[:14])\n",
    "\n",
    "pl.show()"
   ]
  },
  {
   "cell_type": "code",
   "execution_count": 18,
   "metadata": {},
   "outputs": [
    {
     "name": "stdout",
     "output_type": "stream",
     "text": [
      "Log Reg accuracy 0.666666666667\n",
      "Log Reg accuracy 0.652173913043\n",
      "Log Reg accuracy 0.632850241546\n",
      "Log Reg accuracy 0.632850241546\n",
      "Log Reg accuracy 0.628019323671\n",
      "Log Reg accuracy 0.632850241546\n"
     ]
    },
    {
     "data": {
      "image/png": "[encoded data removed]",
      "text/plain": [
       "<matplotlib.figure.Figure at 0x7f4017577450>"
      ]
     },
     "metadata": {},
     "output_type": "display_data"
    }
   ],
   "source": [
    "#Q3 Now, train a multi-class Logistic Regression classifier with the complete training set. \n",
    "#Again, plot the training and validation accuracy as C increases, and print the final test accuracy. \n",
    "\n",
    "D = [1,2,3,4,5,6]\n",
    "A = [1,2,3,4,5,6]\n",
    "P = 0\n",
    "\n",
    "for i in xrange (-3,3):    \n",
    "\tLogReg = LogisticRegression(C=10**i)\n",
    "\tD[P]=i\n",
    "\tLogReg.fit(train_data, train_labels)\n",
    "\tA[P] = LogReg.score(test_data, test_labels)\n",
    "\tprint 'Log Reg accuracy', A[P]\n",
    "\tP+=1\n",
    "#Plot\n",
    "pl.plot(D[:5],A[:5])\n",
    "\n",
    "pl.show()"
   ]
  },
  {
   "cell_type": "code",
   "execution_count": 7,
   "metadata": {},
   "outputs": [
    {
     "name": "stdout",
     "output_type": "stream",
     "text": [
      "New samples [[  1.00000000e+00]\n",
      " [  1.00000000e+00]\n",
      " [  7.96152260e-07]\n",
      " [  1.00000000e+00]\n",
      " [  3.94323242e-03]\n",
      " [  1.50886882e-10]\n",
      " [  1.39198333e-12]\n",
      " [  9.99862703e-01]\n",
      " [  1.00000000e+00]\n",
      " [  4.05847913e-04]\n",
      " [  1.00000000e+00]\n",
      " [  1.00000000e+00]\n",
      " [  9.99961144e-01]\n",
      " [  9.99999942e-01]\n",
      " [  1.00000000e+00]\n",
      " [  1.47143368e-06]\n",
      " [  3.61253022e-06]\n",
      " [  1.00000000e+00]\n",
      " [  1.00000000e+00]\n",
      " [  1.00000000e+00]\n",
      " [  1.00000000e+00]\n",
      " [  2.45321627e-06]\n",
      " [  3.90816809e-09]\n",
      " [  1.00000000e+00]\n",
      " [  1.00000000e+00]\n",
      " [  1.00000000e+00]\n",
      " [  3.33538326e-10]\n",
      " [  9.99990918e-01]\n",
      " [  9.60368324e-01]\n",
      " [  3.57232427e-01]\n",
      " [  4.01844171e-02]\n",
      " [  9.99999994e-01]\n",
      " [  1.00000000e+00]\n",
      " [  2.88997133e-02]\n",
      " [  9.64413299e-01]\n",
      " [  1.00000000e+00]\n",
      " [  3.20017750e-01]\n",
      " [  1.00000000e+00]\n",
      " [  1.00000000e+00]\n",
      " [  1.00000000e+00]\n",
      " [  2.51949092e-11]\n",
      " [  1.00000000e+00]\n",
      " [  3.63563673e-11]\n",
      " [  5.75180115e-03]\n",
      " [  1.00000000e+00]\n",
      " [  9.72932413e-01]\n",
      " [  6.82596419e-23]\n",
      " [  7.52790085e-02]\n",
      " [  9.99999999e-01]\n",
      " [  2.15580148e-10]\n",
      " [  9.95604641e-01]\n",
      " [  1.00000000e+00]\n",
      " [  2.83710622e-12]\n",
      " [  9.10893821e-01]\n",
      " [  8.52197855e-09]\n",
      " [  1.00000000e+00]\n",
      " [  9.99999896e-01]\n",
      " [  1.00000000e+00]\n",
      " [  6.59760770e-14]\n",
      " [  9.99999985e-01]\n",
      " [  1.05603187e-01]\n",
      " [  1.00000000e+00]\n",
      " [  1.96684728e-03]\n",
      " [  9.99992423e-01]\n",
      " [  1.00000000e+00]\n",
      " [  1.00000000e+00]\n",
      " [  1.00000000e+00]\n",
      " [  6.23136146e-05]\n",
      " [  9.99999988e-01]\n",
      " [  1.00000000e+00]\n",
      " [  9.99964184e-01]\n",
      " [  9.99989043e-01]\n",
      " [  1.00000000e+00]\n",
      " [  5.53727464e-03]\n",
      " [  1.00000000e+00]\n",
      " [  9.99977177e-01]\n",
      " [  1.00000000e+00]]\n"
     ]
    }
   ],
   "source": [
    "# Q4 Sometimes we want to re-use a trained classified in another system, or with another programming language. \n",
    "# Other times we just want to save it to disk for later usage. \n",
    "# Given a trained linear classifier object, explain what information should we be saving in order to be able to do so. \n",
    "# Next, inspect the \"shirts vs jeans\" logistic regression classifier object we have trained in Question 2 \n",
    "# (re-train it if necessary) and identify which variables contain said information. \n",
    "# Finally, write the code necessary to use these variables to classify new test samples. \n",
    "\n",
    "#Train and test Data\n",
    "#train_data =np.load (\"3dclothing/3dclothing_train.npy\")\n",
    "#test_data =np.load (\"3dclothing/3dclothing_test.npy\")\n",
    "#Matrix\n",
    "#train_labels = np.array([x.strip() for x in open('3dclothing/3dclothing_labels_train.txt')])\n",
    "#test_labels = np.array([x.strip() for x in open('3dclothing/3dclothing_labels_test.txt')])\n",
    "\n",
    "for i in xrange (-7,7):    \n",
    "\tLogReg = LogisticRegression(C=10**i)\n",
    "\tLogReg.fit(dat_train, lab_train)\n",
    "\ta = LogReg.score(dat_test, lab_test)\n",
    "\tbias = LogReg.intercept_\n",
    "\ttheta = LogReg.coef_\n",
    "\tacc = 1/(1+(np.exp(-np.dot(dat_test, theta.T)-bias)))\n",
    "print 'New samples', acc"
   ]
  },
  {
   "cell_type": "code",
   "execution_count": 20,
   "metadata": {
    "collapsed": true
   },
   "outputs": [],
   "source": [
    "#Q6 We will now compare the performance of the linear and the RBF Support Vector Machines in a real dataset: \n",
    "#Train the two classifiers in the jeans vs shirts problem from Q2, and compute the accuracy on the test set. \n",
    "#What happened? "
   ]
  },
  {
   "cell_type": "code",
   "execution_count": 23,
   "metadata": {},
   "outputs": [
    {
     "name": "stdout",
     "output_type": "stream",
     "text": [
      "Log Reg accuracy 0.61038961039\n",
      "Log Reg accuracy 0.688311688312\n",
      "Log Reg accuracy 0.766233766234\n",
      "Log Reg accuracy 0.883116883117\n",
      "Log Reg accuracy 0.883116883117\n",
      "Log Reg accuracy 0.857142857143\n",
      "Log Reg accuracy 0.818181818182\n",
      "Log Reg accuracy 0.831168831169\n",
      "Log Reg accuracy 0.844155844156\n",
      "Log Reg accuracy 0.831168831169\n",
      "Log Reg accuracy 0.831168831169\n",
      "Log Reg accuracy 0.831168831169\n",
      "Log Reg accuracy 0.831168831169\n",
      "Log Reg accuracy 0.831168831169\n",
      "RBF SVM accuracy 0.227053140097\n"
     ]
    }
   ],
   "source": [
    "#accuracy RBF SVM\n",
    "for i in xrange (-7,7):    \n",
    "\tLogReg = LogisticRegression(C=10**i)\n",
    "\tLogReg.fit(dat_train, lab_train)\n",
    "\tA = LogReg.score(dat_test, lab_test)\n",
    "\tprint 'Log Reg accuracy', A\n",
    "\tclf = SVC(C=10**i)\n",
    "\tclf.fit(train_data, train_labels)\n",
    "print 'RBF SVM accuracy', clf.score(test_data, test_labels)"
   ]
  },
  {
   "cell_type": "code",
   "execution_count": 2,
   "metadata": {
    "collapsed": true
   },
   "outputs": [],
   "source": [
    "#We have just finished developing the vision system of a robot waiter to work in a bar. Now we have to evaluate it.\n",
    "#Q8 After developing a french fries image logistic regression classifier for our robot waiter, we want to know how good it is. We have run the image classifier in 150.000 images, of which 150 are positives. Load the probability of french fries computed by our classifier and the true labels, and compute:\n",
    "#Accuracy and Error Rate (assume threshold is at 0.5)\n",
    "#Balanced Error Rate (implies computing True Positive Rate, True Negative Rate)\n",
    "#F1-score (implies computing also precision and recall) \n",
    "#Hint: Since we will consider the whole dataset, there is no need to sort the values.\n",
    "#Since being a bit slower is prefearable to our robot attacking a client wearing stripes, we are more concerned about precision than recall. Compute the f-beta score with beta=0.5\n",
    "#Finally, plot the precision-recall curve for our classifier.\n",
    "#Use the function precision_recall_curve found in sklearn.metrics.\n"
   ]
  },
  {
   "cell_type": "code",
   "execution_count": 3,
   "metadata": {
    "collapsed": true
   },
   "outputs": [],
   "source": [
    "import numpy as np\n",
    "import math\n",
    "from sklearn.linear_model import LogisticRegression\n",
    "from sklearn.svm import LinearSVC, SVC\n",
    "from sklearn.metrics import precision_recall_curve\n",
    "import pylab as pl\n",
    "#Use the function precision_recall_curve found in sklearn.metrics."
   ]
  },
  {
   "cell_type": "code",
   "execution_count": 4,
   "metadata": {
    "collapsed": true
   },
   "outputs": [],
   "source": [
    "#Datos labels scores\n",
    "labels_data =np.load (\"robot_waiter/robot_waiter_fries_labels.npy\")\n",
    "scores_data =np.load (\"robot_waiter/robot_waiter_fries_scores.npy\")\n",
    "#We have run the image classifier in 150.000 images\n",
    "data =150000\n",
    "#Accuracy and Error Rate (assume threshold is at 0.5)\n",
    "filter_scores = scores_data > 0.5"
   ]
  },
  {
   "cell_type": "code",
   "execution_count": 6,
   "metadata": {
    "collapsed": true
   },
   "outputs": [],
   "source": [
    "#Definicion de clases\n",
    "true_positive = float(sum(filter_scores & labels_data))\n",
    "false_positive = float(sum(filter_scores & ~labels_data))\n",
    "false_negative = float(sum(~filter_scores & labels_data))\n",
    "true_negative = float(sum(~filter_scores & ~labels_data))"
   ]
  },
  {
   "cell_type": "code",
   "execution_count": 7,
   "metadata": {},
   "outputs": [
    {
     "name": "stdout",
     "output_type": "stream",
     "text": [
      "Accuracy is 0.998966666667\n",
      "Error Rate is 0.00103333333333\n"
     ]
    }
   ],
   "source": [
    "#Balanced Error Rate (implies computing True Positive Rate, True Negative Rate)\n",
    "Accuracy = (true_positive+true_negative)/data\n",
    "#Error rate\n",
    "Err_Rate = (false_positive+false_negative)/data\n",
    "\n",
    "print 'Accuracy is', Accuracy\n",
    "print 'Error Rate is', Err_Rate\n"
   ]
  },
  {
   "cell_type": "code",
   "execution_count": 8,
   "metadata": {
    "collapsed": true
   },
   "outputs": [],
   "source": [
    "#F1-score (implies computing also precision and recall) \n",
    "#Hint: Since we will consider the whole dataset, there is no need to sort the values. "
   ]
  },
  {
   "cell_type": "code",
   "execution_count": 9,
   "metadata": {},
   "outputs": [
    {
     "name": "stdout",
     "output_type": "stream",
     "text": [
      "F1-score is 0.340425531915\n"
     ]
    }
   ],
   "source": [
    "precision = true_positive/(true_positive+false_positive)\n",
    "recall = true_positive/(true_positive+false_negative)\n",
    "F1_score = 2*((precision*recall)/(precision+recall))\n",
    "\n",
    "print 'F1-score is', F1_score"
   ]
  },
  {
   "cell_type": "code",
   "execution_count": 10,
   "metadata": {},
   "outputs": [
    {
     "name": "stdout",
     "output_type": "stream",
     "text": [
      "F-beta score is 0.408163265306\n"
     ]
    }
   ],
   "source": [
    "#Since being a bit slower is prefearable to our robot attacking a client wearing stripes,\n",
    "#we are more concerned about precision than recall. \n",
    "#Compute the f-beta score with beta=0.5\n",
    "beta = 0.5\n",
    "f_beta = (1+beta**2)*((precision*recall)/(beta**2*precision+recall))\n",
    "\n",
    "print 'F-beta score is', f_beta\n"
   ]
  },
  {
   "cell_type": "code",
   "execution_count": 11,
   "metadata": {},
   "outputs": [
    {
     "data": {
      "image/png": "[encoded data removed]",
      "text/plain": [
       "<matplotlib.figure.Figure at 0x7f45283be610>"
      ]
     },
     "metadata": {},
     "output_type": "display_data"
    }
   ],
   "source": [
    "#Finally, plot the precision-recall curve for our classifier. \n",
    "#Use the function precision_recall_curve found in sklearn.metrics.\n",
    "\n",
    "precision, recall, _ = precision_recall_curve(labels_data, scores_data)\n",
    "\n",
    "pl.plot(recall, precision)\n",
    "pl.show()"
   ]
  },
  {
   "cell_type": "code",
   "execution_count": null,
   "metadata": {
    "collapsed": true
   },
   "outputs": [],
   "source": []
  }
 ],
 "metadata": {
  "anaconda-cloud": {},
  "kernelspec": {
   "display_name": "Python 2",
   "language": "python",
   "name": "python2"
  },
  "language_info": {
   "codemirror_mode": {
    "name": "ipython",
    "version": 2
   },
   "file_extension": ".py",
   "mimetype": "text/x-python",
   "name": "python",
   "nbconvert_exporter": "python",
   "pygments_lexer": "ipython2",
   "version": "2.7.14"
  }
 },
 "nbformat": 4,
 "nbformat_minor": 1
}
